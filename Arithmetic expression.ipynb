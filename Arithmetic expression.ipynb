{
 "cells": [
  {
   "cell_type": "code",
   "execution_count": 1,
   "metadata": {
    "collapsed": false
   },
   "outputs": [
    {
     "name": "stdout",
     "output_type": "stream",
     "text": [
      "3 -1 3.14159 -2.8\n"
     ]
    }
   ],
   "source": [
    "print(3, -1, 3.14159, -2.8)"
   ]
  },
  {
   "cell_type": "code",
   "execution_count": 2,
   "metadata": {
    "collapsed": false
   },
   "outputs": [
    {
     "name": "stdout",
     "output_type": "stream",
     "text": [
      "<class 'int'> <class 'float'>\n",
      "<class 'float'>\n"
     ]
    }
   ],
   "source": [
    "# numbers - two types, an integer or a decimal number\n",
    "# two corresponding data types int() and float()\n",
    "\n",
    "print(type(3), type(3.14159))\n",
    "print(type(3.0))"
   ]
  },
  {
   "cell_type": "code",
   "execution_count": 3,
   "metadata": {
    "collapsed": false
   },
   "outputs": [
    {
     "name": "stdout",
     "output_type": "stream",
     "text": [
      "3 -2\n",
      "3.0 -1.0\n"
     ]
    }
   ],
   "source": [
    "# we can convert between data types using int() and float()\n",
    "# note that int() takes the \"whole\" part of a decimal number and doesn't round\n",
    "# float() applied to integers is boring\n",
    "\n",
    "print(int(3.14159), int(-2.8))\n",
    "print(float(3), float(-1))"
   ]
  },
  {
   "cell_type": "code",
   "execution_count": 4,
   "metadata": {
    "collapsed": false
   },
   "outputs": [
    {
     "name": "stdout",
     "output_type": "stream",
     "text": [
      "3.141592653589793\n",
      "1.4142135623730951\n"
     ]
    }
   ],
   "source": [
    "# floating point number have around 15 decimal digits of accuracy\n",
    "# pi is 3.1415926535897932384626433832795028841971...\n",
    "# square root of two is 1.4142135623730950488016887242096980785696...\n",
    "\n",
    "# approximation of pi, Python displays 12 decimal digits\n",
    "\n",
    "print(3.1415926535897932384626433832795028841971)\n",
    "\n",
    "# appoximation of square root of two, Python displays 12 decimal digits\n",
    "\n",
    "print(1.4142135623730950488016887242096980785696)"
   ]
  },
  {
   "cell_type": "code",
   "execution_count": 5,
   "metadata": {
    "collapsed": false
   },
   "outputs": [
    {
     "name": "stdout",
     "output_type": "stream",
     "text": [
      "3 -1 30 32\n"
     ]
    }
   ],
   "source": [
    "# arithmetic operators\n",
    "# +\t\tplus\t\taddition\n",
    "# -\t\tminus\t\tsubtraction\n",
    "# *\t\ttimes\t\tmultiplication\n",
    "# /\t\tdivided by \tdivision\n",
    "# **    power\t\texponentiation\n",
    "\n",
    "print(1 + 2, 3 - 4, 5 * 6, 2 ** 5)"
   ]
  },
  {
   "cell_type": "code",
   "execution_count": 6,
   "metadata": {
    "collapsed": false
   },
   "outputs": [
    {
     "name": "stdout",
     "output_type": "stream",
     "text": [
      "0.3333333333333333 2.5 -2.3333333333333335\n",
      "0.3333333333333333 2.5 -2.3333333333333335\n"
     ]
    }
   ],
   "source": [
    "# If one operand is a decimal (float), the answer is decimal\n",
    "\n",
    "print(1.0 / 3, 5.0 / 2.0, -7 / 3.0)\n",
    "\n",
    "# In python2, if both operands are ints, the answer is an int (rounded down)\n",
    "\n",
    "print(1 / 3, 5 / 2, -7 / 3)"
   ]
  },
  {
   "cell_type": "code",
   "execution_count": 7,
   "metadata": {
    "collapsed": false
   },
   "outputs": [
    {
     "name": "stdout",
     "output_type": "stream",
     "text": [
      "7 3.1666666666666665 146\n"
     ]
    }
   ],
   "source": [
    "# expressions - number or a binary operator applied to two expressions\n",
    "# minus is also a unary operator and can be applied to a single expression\n",
    "\n",
    "print(1 + 2 * 3, 4.0 - 5.0 / 6.0, 7 * 8 + 9 * 10)"
   ]
  },
  {
   "cell_type": "code",
   "execution_count": 8,
   "metadata": {
    "collapsed": false
   },
   "outputs": [
    {
     "name": "stdout",
     "output_type": "stream",
     "text": [
      "14\n",
      "14\n"
     ]
    }
   ],
   "source": [
    "# expressions are entered as sequence of numbers and operations\n",
    "# how are the number and operators grouped to form expressions?\n",
    "# operator precedence - \"please excuse my dear aunt sallie\" = (), **, *, /, +,-\n",
    "\n",
    "print(1 * 2 + 3 * 4)\n",
    "print(2 + 12)"
   ]
  },
  {
   "cell_type": "code",
   "execution_count": 9,
   "metadata": {
    "collapsed": false
   },
   "outputs": [
    {
     "name": "stdout",
     "output_type": "stream",
     "text": [
      "20\n",
      "20\n"
     ]
    }
   ],
   "source": [
    "# always manually group using parentheses when in doubt\n",
    "\n",
    "print(1 * (2 + 3) * 4)\n",
    "print(1 * 5 * 4)"
   ]
  },
  {
   "cell_type": "code",
   "execution_count": null,
   "metadata": {
    "collapsed": true
   },
   "outputs": [],
   "source": []
  }
 ],
 "metadata": {
  "kernelspec": {
   "display_name": "Python [conda root]",
   "language": "python",
   "name": "conda-root-py"
  },
  "language_info": {
   "codemirror_mode": {
    "name": "ipython",
    "version": 3
   },
   "file_extension": ".py",
   "mimetype": "text/x-python",
   "name": "python",
   "nbconvert_exporter": "python",
   "pygments_lexer": "ipython3",
   "version": "3.5.2"
  }
 },
 "nbformat": 4,
 "nbformat_minor": 2
}
